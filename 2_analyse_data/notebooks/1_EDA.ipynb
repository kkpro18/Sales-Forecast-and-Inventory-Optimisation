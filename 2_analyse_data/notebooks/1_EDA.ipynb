{
 "cells": [
  {
   "cell_type": "code",
   "id": "initial_id",
   "metadata": {
    "collapsed": true,
    "ExecuteTime": {
     "end_time": "2024-12-29T21:31:26.618512Z",
     "start_time": "2024-12-29T21:31:26.454861Z"
    }
   },
   "source": [
    "import pandas as pd\n",
    "\n",
    "data = pd.read_csv('../../1_datasets/synthetic_retail_data.csv')"
   ],
   "outputs": [],
   "execution_count": 8
  },
  {
   "metadata": {
    "ExecuteTime": {
     "end_time": "2024-12-29T21:31:28.096747Z",
     "start_time": "2024-12-29T21:31:28.083755Z"
    }
   },
   "cell_type": "code",
   "source": "data.info",
   "id": "cd854c65cf1b1b8",
   "outputs": [
    {
     "data": {
      "text/plain": [
       "<bound method DataFrame.info of              Date Store ID Product ID     Category Region  Inventory Level  \\\n",
       "0      2022-01-01     S001      P0001    Groceries  North              231   \n",
       "1      2022-01-01     S001      P0002         Toys  South              204   \n",
       "2      2022-01-01     S001      P0003         Toys   West              102   \n",
       "3      2022-01-01     S001      P0004         Toys  North              469   \n",
       "4      2022-01-01     S001      P0005  Electronics   East              166   \n",
       "...           ...      ...        ...          ...    ...              ...   \n",
       "73095  2024-01-01     S005      P0016    Furniture   East               96   \n",
       "73096  2024-01-01     S005      P0017         Toys  North              313   \n",
       "73097  2024-01-01     S005      P0018     Clothing   West              278   \n",
       "73098  2024-01-01     S005      P0019         Toys   East              374   \n",
       "73099  2024-01-01     S005      P0020    Groceries   East              117   \n",
       "\n",
       "       Units Sold  Units Ordered  Demand Forecast  Price  Discount  \\\n",
       "0             127             55           135.47  33.50        20   \n",
       "1             150             66           144.04  63.01        20   \n",
       "2              65             51            74.02  27.99        10   \n",
       "3              61            164            62.18  32.72        10   \n",
       "4              14            135             9.26  73.64         0   \n",
       "...           ...            ...              ...    ...       ...   \n",
       "73095           8            127            18.46  73.73        20   \n",
       "73096          51            101            48.43  82.57        10   \n",
       "73097          36            151            39.65  11.11        10   \n",
       "73098         264             21           270.52  53.14        20   \n",
       "73099           6            165             2.33  78.39        20   \n",
       "\n",
       "      Weather Condition  Holiday/Promotion  Competitor Pricing Seasonality  \n",
       "0                 Rainy                  0               29.69      Autumn  \n",
       "1                 Sunny                  0               66.16      Autumn  \n",
       "2                 Sunny                  1               31.32      Summer  \n",
       "3                Cloudy                  1               34.74      Autumn  \n",
       "4                 Sunny                  0               68.95      Summer  \n",
       "...                 ...                ...                 ...         ...  \n",
       "73095             Snowy                  0               72.45      Winter  \n",
       "73096            Cloudy                  0               83.78      Autumn  \n",
       "73097             Rainy                  0               10.91      Winter  \n",
       "73098             Rainy                  0               55.80      Spring  \n",
       "73099             Rainy                  1               79.52      Spring  \n",
       "\n",
       "[73100 rows x 15 columns]>"
      ]
     },
     "execution_count": 9,
     "metadata": {},
     "output_type": "execute_result"
    }
   ],
   "execution_count": 9
  },
  {
   "metadata": {},
   "cell_type": "markdown",
   "source": "Contains 5 Stores of Data, Needs Separating into 5 Datasets.",
   "id": "37720d1e118d0223"
  },
  {
   "metadata": {},
   "cell_type": "code",
   "outputs": [],
   "execution_count": null,
   "source": "",
   "id": "d12047fdcf3d7f18"
  }
 ],
 "metadata": {
  "kernelspec": {
   "display_name": "Python 3",
   "language": "python",
   "name": "python3"
  },
  "language_info": {
   "codemirror_mode": {
    "name": "ipython",
    "version": 2
   },
   "file_extension": ".py",
   "mimetype": "text/x-python",
   "name": "python",
   "nbconvert_exporter": "python",
   "pygments_lexer": "ipython2",
   "version": "2.7.6"
  }
 },
 "nbformat": 4,
 "nbformat_minor": 5
}
