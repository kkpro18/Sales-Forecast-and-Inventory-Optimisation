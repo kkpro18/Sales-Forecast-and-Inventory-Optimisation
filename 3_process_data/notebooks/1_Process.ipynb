{
 "cells": [
  {
   "metadata": {
    "ExecuteTime": {
     "end_time": "2025-01-17T15:17:24.927672Z",
     "start_time": "2025-01-17T15:17:24.922097Z"
    }
   },
   "cell_type": "code",
   "source": [
    "import pandas as pd\n",
    "import numpy as np"
   ],
   "id": "290355ca8ef27cd7",
   "outputs": [],
   "execution_count": 3
  },
  {
   "metadata": {
    "collapsed": true,
    "ExecuteTime": {
     "end_time": "2025-01-17T15:17:26.019429Z",
     "start_time": "2025-01-17T15:17:25.822669Z"
    }
   },
   "cell_type": "code",
   "source": [
    "data = pd.read_csv('../../1_datasets/synthetic_retail_data.csv', parse_dates=['Date'], index_col='Date')\n",
    "data.head()"
   ],
   "id": "initial_id",
   "outputs": [
    {
     "data": {
      "text/plain": [
       "           Store ID Product ID     Category Region  Inventory Level  \\\n",
       "Date                                                                  \n",
       "2022-01-01     S001      P0001    Groceries  North              231   \n",
       "2022-01-01     S001      P0002         Toys  South              204   \n",
       "2022-01-01     S001      P0003         Toys   West              102   \n",
       "2022-01-01     S001      P0004         Toys  North              469   \n",
       "2022-01-01     S001      P0005  Electronics   East              166   \n",
       "\n",
       "            Units Sold  Units Ordered  Demand Forecast  Price  Discount  \\\n",
       "Date                                                                      \n",
       "2022-01-01         127             55           135.47  33.50        20   \n",
       "2022-01-01         150             66           144.04  63.01        20   \n",
       "2022-01-01          65             51            74.02  27.99        10   \n",
       "2022-01-01          61            164            62.18  32.72        10   \n",
       "2022-01-01          14            135             9.26  73.64         0   \n",
       "\n",
       "           Weather Condition  Holiday/Promotion  Competitor Pricing  \\\n",
       "Date                                                                  \n",
       "2022-01-01             Rainy                  0               29.69   \n",
       "2022-01-01             Sunny                  0               66.16   \n",
       "2022-01-01             Sunny                  1               31.32   \n",
       "2022-01-01            Cloudy                  1               34.74   \n",
       "2022-01-01             Sunny                  0               68.95   \n",
       "\n",
       "           Seasonality  \n",
       "Date                    \n",
       "2022-01-01      Autumn  \n",
       "2022-01-01      Autumn  \n",
       "2022-01-01      Summer  \n",
       "2022-01-01      Autumn  \n",
       "2022-01-01      Summer  "
      ],
      "text/html": [
       "<div>\n",
       "<style scoped>\n",
       "    .dataframe tbody tr th:only-of-type {\n",
       "        vertical-align: middle;\n",
       "    }\n",
       "\n",
       "    .dataframe tbody tr th {\n",
       "        vertical-align: top;\n",
       "    }\n",
       "\n",
       "    .dataframe thead th {\n",
       "        text-align: right;\n",
       "    }\n",
       "</style>\n",
       "<table border=\"1\" class=\"dataframe\">\n",
       "  <thead>\n",
       "    <tr style=\"text-align: right;\">\n",
       "      <th></th>\n",
       "      <th>Store ID</th>\n",
       "      <th>Product ID</th>\n",
       "      <th>Category</th>\n",
       "      <th>Region</th>\n",
       "      <th>Inventory Level</th>\n",
       "      <th>Units Sold</th>\n",
       "      <th>Units Ordered</th>\n",
       "      <th>Demand Forecast</th>\n",
       "      <th>Price</th>\n",
       "      <th>Discount</th>\n",
       "      <th>Weather Condition</th>\n",
       "      <th>Holiday/Promotion</th>\n",
       "      <th>Competitor Pricing</th>\n",
       "      <th>Seasonality</th>\n",
       "    </tr>\n",
       "    <tr>\n",
       "      <th>Date</th>\n",
       "      <th></th>\n",
       "      <th></th>\n",
       "      <th></th>\n",
       "      <th></th>\n",
       "      <th></th>\n",
       "      <th></th>\n",
       "      <th></th>\n",
       "      <th></th>\n",
       "      <th></th>\n",
       "      <th></th>\n",
       "      <th></th>\n",
       "      <th></th>\n",
       "      <th></th>\n",
       "      <th></th>\n",
       "    </tr>\n",
       "  </thead>\n",
       "  <tbody>\n",
       "    <tr>\n",
       "      <th>2022-01-01</th>\n",
       "      <td>S001</td>\n",
       "      <td>P0001</td>\n",
       "      <td>Groceries</td>\n",
       "      <td>North</td>\n",
       "      <td>231</td>\n",
       "      <td>127</td>\n",
       "      <td>55</td>\n",
       "      <td>135.47</td>\n",
       "      <td>33.50</td>\n",
       "      <td>20</td>\n",
       "      <td>Rainy</td>\n",
       "      <td>0</td>\n",
       "      <td>29.69</td>\n",
       "      <td>Autumn</td>\n",
       "    </tr>\n",
       "    <tr>\n",
       "      <th>2022-01-01</th>\n",
       "      <td>S001</td>\n",
       "      <td>P0002</td>\n",
       "      <td>Toys</td>\n",
       "      <td>South</td>\n",
       "      <td>204</td>\n",
       "      <td>150</td>\n",
       "      <td>66</td>\n",
       "      <td>144.04</td>\n",
       "      <td>63.01</td>\n",
       "      <td>20</td>\n",
       "      <td>Sunny</td>\n",
       "      <td>0</td>\n",
       "      <td>66.16</td>\n",
       "      <td>Autumn</td>\n",
       "    </tr>\n",
       "    <tr>\n",
       "      <th>2022-01-01</th>\n",
       "      <td>S001</td>\n",
       "      <td>P0003</td>\n",
       "      <td>Toys</td>\n",
       "      <td>West</td>\n",
       "      <td>102</td>\n",
       "      <td>65</td>\n",
       "      <td>51</td>\n",
       "      <td>74.02</td>\n",
       "      <td>27.99</td>\n",
       "      <td>10</td>\n",
       "      <td>Sunny</td>\n",
       "      <td>1</td>\n",
       "      <td>31.32</td>\n",
       "      <td>Summer</td>\n",
       "    </tr>\n",
       "    <tr>\n",
       "      <th>2022-01-01</th>\n",
       "      <td>S001</td>\n",
       "      <td>P0004</td>\n",
       "      <td>Toys</td>\n",
       "      <td>North</td>\n",
       "      <td>469</td>\n",
       "      <td>61</td>\n",
       "      <td>164</td>\n",
       "      <td>62.18</td>\n",
       "      <td>32.72</td>\n",
       "      <td>10</td>\n",
       "      <td>Cloudy</td>\n",
       "      <td>1</td>\n",
       "      <td>34.74</td>\n",
       "      <td>Autumn</td>\n",
       "    </tr>\n",
       "    <tr>\n",
       "      <th>2022-01-01</th>\n",
       "      <td>S001</td>\n",
       "      <td>P0005</td>\n",
       "      <td>Electronics</td>\n",
       "      <td>East</td>\n",
       "      <td>166</td>\n",
       "      <td>14</td>\n",
       "      <td>135</td>\n",
       "      <td>9.26</td>\n",
       "      <td>73.64</td>\n",
       "      <td>0</td>\n",
       "      <td>Sunny</td>\n",
       "      <td>0</td>\n",
       "      <td>68.95</td>\n",
       "      <td>Summer</td>\n",
       "    </tr>\n",
       "  </tbody>\n",
       "</table>\n",
       "</div>"
      ]
     },
     "execution_count": 4,
     "metadata": {},
     "output_type": "execute_result"
    }
   ],
   "execution_count": 4
  },
  {
   "metadata": {
    "ExecuteTime": {
     "end_time": "2025-01-17T15:18:59.045339Z",
     "start_time": "2025-01-17T15:18:59.034198Z"
    }
   },
   "cell_type": "code",
   "source": "data['Store ID'].unique()",
   "id": "5c85a2ff11164346",
   "outputs": [
    {
     "data": {
      "text/plain": [
       "array(['S001', 'S002', 'S003', 'S004', 'S005'], dtype=object)"
      ]
     },
     "execution_count": 5,
     "metadata": {},
     "output_type": "execute_result"
    }
   ],
   "execution_count": 5
  },
  {
   "metadata": {
    "ExecuteTime": {
     "end_time": "2025-01-17T15:50:10.158326Z",
     "start_time": "2025-01-17T15:50:10.112728Z"
    }
   },
   "cell_type": "code",
   "source": [
    "all_stores_grouped = data.groupby('Store ID')\n",
    "store_01 = all_stores_grouped.get_group(\"S001\").drop(\"Store ID\", axis=1)\n",
    "store_02 = all_stores_grouped.get_group(\"S002\").drop(\"Store ID\", axis=1)\n",
    "store_03 = all_stores_grouped.get_group(\"S003\").drop(\"Store ID\", axis=1)\n",
    "store_04 = all_stores_grouped.get_group(\"S004\").drop(\"Store ID\", axis=1)\n",
    "store_05 = all_stores_grouped.get_group(\"S005\").drop(\"Store ID\", axis=1)"
   ],
   "id": "61372616783e743b",
   "outputs": [],
   "execution_count": 23
  },
  {
   "metadata": {
    "ExecuteTime": {
     "end_time": "2025-01-17T15:50:24.272517Z",
     "start_time": "2025-01-17T15:50:23.702853Z"
    }
   },
   "cell_type": "code",
   "source": [
    "import os\n",
    "directory_path = \"../../1_datasets/processed_data\"\n",
    "if os.path.exists(directory_path):\n",
    "    print(\"Directory Exists\")\n",
    "else:\n",
    "    os.makedirs(directory_path)\n",
    "store_01.to_csv(f\"{directory_path}/store_01.csv\")\n",
    "print(\"Store_01 File Saved\")\n",
    "\n",
    "store_02.to_csv(f\"{directory_path}/store_02.csv\")\n",
    "print(\"Store_02 File Saved\")\n",
    "\n",
    "store_03.to_csv(f\"{directory_path}/store_03.csv\")\n",
    "print(\"Store_03 File Saved\")\n",
    "\n",
    "store_04.to_csv(f\"{directory_path}/store_04.csv\")\n",
    "print(\"Store_04 File Saved\")\n",
    "\n",
    "store_05.to_csv(f\"{directory_path}/store_05.csv\")\n",
    "print(\"Store_05 File Saved\")"
   ],
   "id": "3c9c26d21f83ac69",
   "outputs": [
    {
     "name": "stdout",
     "output_type": "stream",
     "text": [
      "Directory Exists\n",
      "Store_01 File Saved\n",
      "Store_02 File Saved\n",
      "Store_03 File Saved\n",
      "Store_04 File Saved\n",
      "Store_05 File Saved\n"
     ]
    }
   ],
   "execution_count": 25
  },
  {
   "metadata": {},
   "cell_type": "code",
   "outputs": [],
   "execution_count": null,
   "source": "",
   "id": "d5c29a4ea3675800"
  }
 ],
 "metadata": {
  "kernelspec": {
   "display_name": "Python 3",
   "language": "python",
   "name": "python3"
  },
  "language_info": {
   "codemirror_mode": {
    "name": "ipython",
    "version": 2
   },
   "file_extension": ".py",
   "mimetype": "text/x-python",
   "name": "python",
   "nbconvert_exporter": "python",
   "pygments_lexer": "ipython2",
   "version": "2.7.6"
  }
 },
 "nbformat": 4,
 "nbformat_minor": 5
}
