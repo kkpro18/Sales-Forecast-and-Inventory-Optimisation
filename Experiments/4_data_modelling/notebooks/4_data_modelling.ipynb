{
 "cells": [
  {
   "metadata": {},
   "cell_type": "code",
   "source": [
    "import pandas as pd\n",
    "import numpy as np\n",
    "import sklearn"
   ],
   "id": "290355ca8ef27cd7",
   "outputs": [],
   "execution_count": null
  },
  {
   "metadata": {
    "collapsed": true
   },
   "cell_type": "code",
   "source": [
    "data = pd.read_csv('../../1_datasets/processed_data/store_01.csv', parse_dates=True)\n",
    "data.head(20)"
   ],
   "id": "initial_id",
   "outputs": [],
   "execution_count": null
  },
  {
   "metadata": {},
   "cell_type": "code",
   "source": [
    "from sklearn.model_selection import train_test_split\n",
    "\n",
    "x = data[\"Date\"]\n",
    "y = data[\"Units Sold\"]\n",
    "x_train, x_test, y_train, y_test = train_test_split(x, y, test_size=0.3, random_state=1) # 70 : 30 split"
   ],
   "id": "c291539fa95cc445",
   "outputs": [],
   "execution_count": null
  },
  {
   "metadata": {},
   "cell_type": "code",
   "source": [
    "from matplotlib import pyplot as plt\n",
    "\n",
    "data = pd.to_datetime(x_train),y_train"
   ],
   "id": "f177d6a6b9dcd84",
   "outputs": [],
   "execution_count": null
  },
  {
   "metadata": {},
   "cell_type": "code",
   "source": "y_train",
   "id": "7fc598aeb3fab2b",
   "outputs": [],
   "execution_count": null
  },
  {
   "metadata": {},
   "cell_type": "markdown",
   "source": "## Fitting ARIMA Model",
   "id": "8c8dea021f50f66d"
  },
  {
   "metadata": {},
   "cell_type": "markdown",
   "source": " Stepwise Approach",
   "id": "75fe524d3642e4db"
  },
  {
   "metadata": {},
   "cell_type": "code",
   "source": [
    "from pmdarima import auto_arima\n",
    "import warnings\n",
    "\n",
    "# pip install --upgrade pandas pandasai\n",
    "\n",
    "\n",
    "warnings.filterwarnings(\"ignore\")\n",
    "\n",
    "arima_stepwise_fit = auto_arima(x=x_train, y=y_train,\n",
    "                          seasonal=False, # arima no seasonal trends\n",
    "                          trace=True, # to show iterative analysis\n",
    "                          # error_action='ignore',  # we don't want to know if an order does not work\n",
    "                          suppress_warnings=True,  # we don't want convergence warnings\n",
    "                          stepwise=True)  # set to stepwise for quicker parameter finding\n",
    "\n",
    "# To print the summary\n",
    "print(\"Stepwise ARIMA Model Complete\")\n",
    "arima_stepwise_fit.summary()"
   ],
   "id": "4621d6b2a45e9b9f",
   "outputs": [
    {
     "name": "stdout",
     "output_type": "stream",
     "text": [
      " ARIMA(5,0,1)(0,0,0)[0]             : AIC=inf, Time=5.16 sec\n",
      " ARIMA(4,0,1)(0,0,0)[0]             : AIC=inf, Time=3.66 sec\n",
      " ARIMA(5,0,0)(0,0,0)[0] intercept   : AIC=125102.346, Time=1.13 sec\n",
      " ARIMA(4,0,0)(0,0,0)[0] intercept   : AIC=125100.347, Time=0.62 sec\n",
      " ARIMA(3,0,0)(0,0,0)[0] intercept   : AIC=125098.551, Time=0.52 sec\n",
      " ARIMA(2,0,0)(0,0,0)[0] intercept   : AIC=125099.110, Time=0.40 sec\n",
      " ARIMA(3,0,1)(0,0,0)[0] intercept   : AIC=125100.550, Time=1.28 sec\n",
      " ARIMA(2,0,1)(0,0,0)[0] intercept   : AIC=125101.182, Time=0.88 sec\n",
      " ARIMA(4,0,1)(0,0,0)[0] intercept   : AIC=125102.347, Time=2.13 sec\n",
      "\n",
      "Best model:  ARIMA(3,0,0)(0,0,0)[0] intercept\n",
      "Total fit time: 21.715 seconds\n",
      "Stepwise ARIMA Model Complete\n"
     ]
    },
    {
     "data": {
      "text/plain": [
       "<class 'statsmodels.iolib.summary.Summary'>\n",
       "\"\"\"\n",
       "                               SARIMAX Results                                \n",
       "==============================================================================\n",
       "Dep. Variable:                      y   No. Observations:                10234\n",
       "Model:               SARIMAX(3, 0, 0)   Log Likelihood              -62544.275\n",
       "Date:                Fri, 24 Jan 2025   AIC                         125098.551\n",
       "Time:                        16:47:25   BIC                         125134.718\n",
       "Sample:                             0   HQIC                        125110.779\n",
       "                              - 10234                                         \n",
       "Covariance Type:                  opg                                         \n",
       "==============================================================================\n",
       "                 coef    std err          z      P>|z|      [0.025      0.975]\n",
       "------------------------------------------------------------------------------\n",
       "intercept    136.8859      2.750     49.769      0.000     131.495     142.277\n",
       "ar.L1         -0.0099      0.010     -0.998      0.318      -0.029       0.010\n",
       "ar.L2         -0.0140      0.010     -1.397      0.162      -0.034       0.006\n",
       "ar.L3          0.0158      0.010      1.631      0.103      -0.003       0.035\n",
       "sigma2      1.191e+04    212.328     56.086      0.000    1.15e+04    1.23e+04\n",
       "===================================================================================\n",
       "Ljung-Box (L1) (Q):                   0.00   Jarque-Bera (JB):              1446.50\n",
       "Prob(Q):                              0.99   Prob(JB):                         0.00\n",
       "Heteroskedasticity (H):               1.01   Skew:                             0.92\n",
       "Prob(H) (two-sided):                  0.78   Kurtosis:                         3.08\n",
       "===================================================================================\n",
       "\n",
       "Warnings:\n",
       "[1] Covariance matrix calculated using the outer product of gradients (complex-step).\n",
       "\"\"\""
      ],
      "text/html": [
       "<table class=\"simpletable\">\n",
       "<caption>SARIMAX Results</caption>\n",
       "<tr>\n",
       "  <th>Dep. Variable:</th>           <td>y</td>        <th>  No. Observations:  </th>    <td>10234</td>  \n",
       "</tr>\n",
       "<tr>\n",
       "  <th>Model:</th>           <td>SARIMAX(3, 0, 0)</td> <th>  Log Likelihood     </th> <td>-62544.275</td>\n",
       "</tr>\n",
       "<tr>\n",
       "  <th>Date:</th>            <td>Fri, 24 Jan 2025</td> <th>  AIC                </th> <td>125098.551</td>\n",
       "</tr>\n",
       "<tr>\n",
       "  <th>Time:</th>                <td>16:47:25</td>     <th>  BIC                </th> <td>125134.718</td>\n",
       "</tr>\n",
       "<tr>\n",
       "  <th>Sample:</th>                  <td>0</td>        <th>  HQIC               </th> <td>125110.779</td>\n",
       "</tr>\n",
       "<tr>\n",
       "  <th></th>                     <td> - 10234</td>     <th>                     </th>      <td> </td>    \n",
       "</tr>\n",
       "<tr>\n",
       "  <th>Covariance Type:</th>        <td>opg</td>       <th>                     </th>      <td> </td>    \n",
       "</tr>\n",
       "</table>\n",
       "<table class=\"simpletable\">\n",
       "<tr>\n",
       "      <td></td>         <th>coef</th>     <th>std err</th>      <th>z</th>      <th>P>|z|</th>  <th>[0.025</th>    <th>0.975]</th>  \n",
       "</tr>\n",
       "<tr>\n",
       "  <th>intercept</th> <td>  136.8859</td> <td>    2.750</td> <td>   49.769</td> <td> 0.000</td> <td>  131.495</td> <td>  142.277</td>\n",
       "</tr>\n",
       "<tr>\n",
       "  <th>ar.L1</th>     <td>   -0.0099</td> <td>    0.010</td> <td>   -0.998</td> <td> 0.318</td> <td>   -0.029</td> <td>    0.010</td>\n",
       "</tr>\n",
       "<tr>\n",
       "  <th>ar.L2</th>     <td>   -0.0140</td> <td>    0.010</td> <td>   -1.397</td> <td> 0.162</td> <td>   -0.034</td> <td>    0.006</td>\n",
       "</tr>\n",
       "<tr>\n",
       "  <th>ar.L3</th>     <td>    0.0158</td> <td>    0.010</td> <td>    1.631</td> <td> 0.103</td> <td>   -0.003</td> <td>    0.035</td>\n",
       "</tr>\n",
       "<tr>\n",
       "  <th>sigma2</th>    <td> 1.191e+04</td> <td>  212.328</td> <td>   56.086</td> <td> 0.000</td> <td> 1.15e+04</td> <td> 1.23e+04</td>\n",
       "</tr>\n",
       "</table>\n",
       "<table class=\"simpletable\">\n",
       "<tr>\n",
       "  <th>Ljung-Box (L1) (Q):</th>     <td>0.00</td> <th>  Jarque-Bera (JB):  </th> <td>1446.50</td>\n",
       "</tr>\n",
       "<tr>\n",
       "  <th>Prob(Q):</th>                <td>0.99</td> <th>  Prob(JB):          </th>  <td>0.00</td>  \n",
       "</tr>\n",
       "<tr>\n",
       "  <th>Heteroskedasticity (H):</th> <td>1.01</td> <th>  Skew:              </th>  <td>0.92</td>  \n",
       "</tr>\n",
       "<tr>\n",
       "  <th>Prob(H) (two-sided):</th>    <td>0.78</td> <th>  Kurtosis:          </th>  <td>3.08</td>  \n",
       "</tr>\n",
       "</table><br/><br/>Warnings:<br/>[1] Covariance matrix calculated using the outer product of gradients (complex-step)."
      ],
      "text/latex": "\\begin{center}\n\\begin{tabular}{lclc}\n\\toprule\n\\textbf{Dep. Variable:}          &        y         & \\textbf{  No. Observations:  } &   10234     \\\\\n\\textbf{Model:}                  & SARIMAX(3, 0, 0) & \\textbf{  Log Likelihood     } & -62544.275  \\\\\n\\textbf{Date:}                   & Fri, 24 Jan 2025 & \\textbf{  AIC                } & 125098.551  \\\\\n\\textbf{Time:}                   &     16:47:25     & \\textbf{  BIC                } & 125134.718  \\\\\n\\textbf{Sample:}                 &        0         & \\textbf{  HQIC               } & 125110.779  \\\\\n\\textbf{}                        &      - 10234     & \\textbf{                     } &             \\\\\n\\textbf{Covariance Type:}        &       opg        & \\textbf{                     } &             \\\\\n\\bottomrule\n\\end{tabular}\n\\begin{tabular}{lcccccc}\n                   & \\textbf{coef} & \\textbf{std err} & \\textbf{z} & \\textbf{P$> |$z$|$} & \\textbf{[0.025} & \\textbf{0.975]}  \\\\\n\\midrule\n\\textbf{intercept} &     136.8859  &        2.750     &    49.769  &         0.000        &      131.495    &      142.277     \\\\\n\\textbf{ar.L1}     &      -0.0099  &        0.010     &    -0.998  &         0.318        &       -0.029    &        0.010     \\\\\n\\textbf{ar.L2}     &      -0.0140  &        0.010     &    -1.397  &         0.162        &       -0.034    &        0.006     \\\\\n\\textbf{ar.L3}     &       0.0158  &        0.010     &     1.631  &         0.103        &       -0.003    &        0.035     \\\\\n\\textbf{sigma2}    &    1.191e+04  &      212.328     &    56.086  &         0.000        &     1.15e+04    &     1.23e+04     \\\\\n\\bottomrule\n\\end{tabular}\n\\begin{tabular}{lclc}\n\\textbf{Ljung-Box (L1) (Q):}     & 0.00 & \\textbf{  Jarque-Bera (JB):  } & 1446.50  \\\\\n\\textbf{Prob(Q):}                & 0.99 & \\textbf{  Prob(JB):          } &   0.00   \\\\\n\\textbf{Heteroskedasticity (H):} & 1.01 & \\textbf{  Skew:              } &   0.92   \\\\\n\\textbf{Prob(H) (two-sided):}    & 0.78 & \\textbf{  Kurtosis:          } &   3.08   \\\\\n\\bottomrule\n\\end{tabular}\n%\\caption{SARIMAX Results}\n\\end{center}\n\nWarnings: \\newline\n [1] Covariance matrix calculated using the outer product of gradients (complex-step)."
     },
     "execution_count": 15,
     "metadata": {},
     "output_type": "execute_result"
    }
   ],
   "execution_count": 15
  },
  {
   "metadata": {},
   "cell_type": "markdown",
   "source": "Non-Stepwise (Parallelized (slower)) Approach",
   "id": "3712da3dad2600fe"
  },
  {
   "metadata": {
    "ExecuteTime": {
     "end_time": "2025-01-24T16:48:20.665066Z",
     "start_time": "2025-01-24T16:47:25.216596Z"
    }
   },
   "cell_type": "code",
   "source": [
    "from pmdarima import auto_arima\n",
    "import warnings\n",
    "\n",
    "# pip install --upgrade pandas pandasai\n",
    "\n",
    "\n",
    "warnings.filterwarnings(\"ignore\")\n",
    "\n",
    "arima_non_stepwise_fit = auto_arima(x=x_train, y=y_train,\n",
    "                                seasonal=False,  # arima no seasonal trends\n",
    "                                trace=True,  # to show iterative analysis\n",
    "                                # error_action='ignore',  # we don't want to know if an order does not work\n",
    "                                suppress_warnings=True,  # we don't want convergence warnings\n",
    "                                stepwise=False)  # set to stepwise for quicker parameter finding\n",
    "\n",
    "# To print the summary\n",
    "print(\"Non Stepwise ARIMA Model Complete\")\n",
    "arima_non_stepwise_fit.summary()"
   ],
   "id": "b4bb769df1b68380",
   "outputs": [
    {
     "name": "stdout",
     "output_type": "stream",
     "text": [
      " ARIMA(0,0,0)(0,0,0)[0]             : AIC=134666.302, Time=0.17 sec\n",
      " ARIMA(0,0,1)(0,0,0)[0]             : AIC=132099.155, Time=1.23 sec\n",
      " ARIMA(0,0,2)(0,0,0)[0]             : AIC=130933.162, Time=1.58 sec\n",
      " ARIMA(0,0,3)(0,0,0)[0]             : AIC=130103.983, Time=1.52 sec\n",
      " ARIMA(0,0,4)(0,0,0)[0]             : AIC=129504.261, Time=2.18 sec\n",
      " ARIMA(0,0,5)(0,0,0)[0]             : AIC=129054.072, Time=2.77 sec\n",
      " ARIMA(1,0,0)(0,0,0)[0]             : AIC=130033.253, Time=0.21 sec\n",
      " ARIMA(1,0,1)(0,0,0)[0]             : AIC=inf, Time=1.94 sec\n",
      " ARIMA(1,0,2)(0,0,0)[0]             : AIC=inf, Time=3.79 sec\n",
      " ARIMA(1,0,3)(0,0,0)[0]             : AIC=inf, Time=5.74 sec\n",
      " ARIMA(1,0,4)(0,0,0)[0]             : AIC=inf, Time=5.31 sec\n",
      " ARIMA(2,0,0)(0,0,0)[0]             : AIC=128494.176, Time=0.26 sec\n",
      " ARIMA(2,0,1)(0,0,0)[0]             : AIC=inf, Time=4.12 sec\n",
      " ARIMA(2,0,2)(0,0,0)[0]             : AIC=inf, Time=3.36 sec\n",
      " ARIMA(2,0,3)(0,0,0)[0]             : AIC=inf, Time=4.49 sec\n",
      " ARIMA(3,0,0)(0,0,0)[0]             : AIC=127572.676, Time=0.35 sec\n",
      " ARIMA(3,0,1)(0,0,0)[0]             : AIC=inf, Time=4.47 sec\n",
      " ARIMA(3,0,2)(0,0,0)[0]             : AIC=inf, Time=6.97 sec\n",
      " ARIMA(4,0,0)(0,0,0)[0]             : AIC=127074.540, Time=0.46 sec\n",
      " ARIMA(4,0,1)(0,0,0)[0]             : AIC=inf, Time=3.88 sec\n",
      " ARIMA(5,0,0)(0,0,0)[0]             : AIC=126756.948, Time=0.48 sec\n",
      "\n",
      "Best model:  ARIMA(5,0,0)(0,0,0)[0]          \n",
      "Total fit time: 55.359 seconds\n",
      "Non Stepwise ARIMA Model Complete\n"
     ]
    },
    {
     "data": {
      "text/plain": [
       "<class 'statsmodels.iolib.summary.Summary'>\n",
       "\"\"\"\n",
       "                               SARIMAX Results                                \n",
       "==============================================================================\n",
       "Dep. Variable:                      y   No. Observations:                10234\n",
       "Model:               SARIMAX(5, 0, 0)   Log Likelihood              -63372.474\n",
       "Date:                Fri, 24 Jan 2025   AIC                         126756.948\n",
       "Time:                        16:48:20   BIC                         126800.349\n",
       "Sample:                             0   HQIC                        126771.622\n",
       "                              - 10234                                         \n",
       "Covariance Type:                  opg                                         \n",
       "==============================================================================\n",
       "                 coef    std err          z      P>|z|      [0.025      0.975]\n",
       "------------------------------------------------------------------------------\n",
       "ar.L1          0.1655      0.010     16.666      0.000       0.146       0.185\n",
       "ar.L2          0.1642      0.010     16.431      0.000       0.145       0.184\n",
       "ar.L3          0.1992      0.010     20.797      0.000       0.180       0.218\n",
       "ar.L4          0.1826      0.010     18.634      0.000       0.163       0.202\n",
       "ar.L5          0.1754      0.010     17.793      0.000       0.156       0.195\n",
       "sigma2        1.4e+04    199.278     70.252      0.000    1.36e+04    1.44e+04\n",
       "===================================================================================\n",
       "Ljung-Box (L1) (Q):                  17.64   Jarque-Bera (JB):               858.48\n",
       "Prob(Q):                              0.00   Prob(JB):                         0.00\n",
       "Heteroskedasticity (H):               1.02   Skew:                             0.71\n",
       "Prob(H) (two-sided):                  0.63   Kurtosis:                         3.02\n",
       "===================================================================================\n",
       "\n",
       "Warnings:\n",
       "[1] Covariance matrix calculated using the outer product of gradients (complex-step).\n",
       "\"\"\""
      ],
      "text/html": [
       "<table class=\"simpletable\">\n",
       "<caption>SARIMAX Results</caption>\n",
       "<tr>\n",
       "  <th>Dep. Variable:</th>           <td>y</td>        <th>  No. Observations:  </th>    <td>10234</td>  \n",
       "</tr>\n",
       "<tr>\n",
       "  <th>Model:</th>           <td>SARIMAX(5, 0, 0)</td> <th>  Log Likelihood     </th> <td>-63372.474</td>\n",
       "</tr>\n",
       "<tr>\n",
       "  <th>Date:</th>            <td>Fri, 24 Jan 2025</td> <th>  AIC                </th> <td>126756.948</td>\n",
       "</tr>\n",
       "<tr>\n",
       "  <th>Time:</th>                <td>16:48:20</td>     <th>  BIC                </th> <td>126800.349</td>\n",
       "</tr>\n",
       "<tr>\n",
       "  <th>Sample:</th>                  <td>0</td>        <th>  HQIC               </th> <td>126771.622</td>\n",
       "</tr>\n",
       "<tr>\n",
       "  <th></th>                     <td> - 10234</td>     <th>                     </th>      <td> </td>    \n",
       "</tr>\n",
       "<tr>\n",
       "  <th>Covariance Type:</th>        <td>opg</td>       <th>                     </th>      <td> </td>    \n",
       "</tr>\n",
       "</table>\n",
       "<table class=\"simpletable\">\n",
       "<tr>\n",
       "     <td></td>       <th>coef</th>     <th>std err</th>      <th>z</th>      <th>P>|z|</th>  <th>[0.025</th>    <th>0.975]</th>  \n",
       "</tr>\n",
       "<tr>\n",
       "  <th>ar.L1</th>  <td>    0.1655</td> <td>    0.010</td> <td>   16.666</td> <td> 0.000</td> <td>    0.146</td> <td>    0.185</td>\n",
       "</tr>\n",
       "<tr>\n",
       "  <th>ar.L2</th>  <td>    0.1642</td> <td>    0.010</td> <td>   16.431</td> <td> 0.000</td> <td>    0.145</td> <td>    0.184</td>\n",
       "</tr>\n",
       "<tr>\n",
       "  <th>ar.L3</th>  <td>    0.1992</td> <td>    0.010</td> <td>   20.797</td> <td> 0.000</td> <td>    0.180</td> <td>    0.218</td>\n",
       "</tr>\n",
       "<tr>\n",
       "  <th>ar.L4</th>  <td>    0.1826</td> <td>    0.010</td> <td>   18.634</td> <td> 0.000</td> <td>    0.163</td> <td>    0.202</td>\n",
       "</tr>\n",
       "<tr>\n",
       "  <th>ar.L5</th>  <td>    0.1754</td> <td>    0.010</td> <td>   17.793</td> <td> 0.000</td> <td>    0.156</td> <td>    0.195</td>\n",
       "</tr>\n",
       "<tr>\n",
       "  <th>sigma2</th> <td>   1.4e+04</td> <td>  199.278</td> <td>   70.252</td> <td> 0.000</td> <td> 1.36e+04</td> <td> 1.44e+04</td>\n",
       "</tr>\n",
       "</table>\n",
       "<table class=\"simpletable\">\n",
       "<tr>\n",
       "  <th>Ljung-Box (L1) (Q):</th>     <td>17.64</td> <th>  Jarque-Bera (JB):  </th> <td>858.48</td>\n",
       "</tr>\n",
       "<tr>\n",
       "  <th>Prob(Q):</th>                <td>0.00</td>  <th>  Prob(JB):          </th>  <td>0.00</td> \n",
       "</tr>\n",
       "<tr>\n",
       "  <th>Heteroskedasticity (H):</th> <td>1.02</td>  <th>  Skew:              </th>  <td>0.71</td> \n",
       "</tr>\n",
       "<tr>\n",
       "  <th>Prob(H) (two-sided):</th>    <td>0.63</td>  <th>  Kurtosis:          </th>  <td>3.02</td> \n",
       "</tr>\n",
       "</table><br/><br/>Warnings:<br/>[1] Covariance matrix calculated using the outer product of gradients (complex-step)."
      ],
      "text/latex": "\\begin{center}\n\\begin{tabular}{lclc}\n\\toprule\n\\textbf{Dep. Variable:}          &        y         & \\textbf{  No. Observations:  } &   10234     \\\\\n\\textbf{Model:}                  & SARIMAX(5, 0, 0) & \\textbf{  Log Likelihood     } & -63372.474  \\\\\n\\textbf{Date:}                   & Fri, 24 Jan 2025 & \\textbf{  AIC                } & 126756.948  \\\\\n\\textbf{Time:}                   &     16:48:20     & \\textbf{  BIC                } & 126800.349  \\\\\n\\textbf{Sample:}                 &        0         & \\textbf{  HQIC               } & 126771.622  \\\\\n\\textbf{}                        &      - 10234     & \\textbf{                     } &             \\\\\n\\textbf{Covariance Type:}        &       opg        & \\textbf{                     } &             \\\\\n\\bottomrule\n\\end{tabular}\n\\begin{tabular}{lcccccc}\n                & \\textbf{coef} & \\textbf{std err} & \\textbf{z} & \\textbf{P$> |$z$|$} & \\textbf{[0.025} & \\textbf{0.975]}  \\\\\n\\midrule\n\\textbf{ar.L1}  &       0.1655  &        0.010     &    16.666  &         0.000        &        0.146    &        0.185     \\\\\n\\textbf{ar.L2}  &       0.1642  &        0.010     &    16.431  &         0.000        &        0.145    &        0.184     \\\\\n\\textbf{ar.L3}  &       0.1992  &        0.010     &    20.797  &         0.000        &        0.180    &        0.218     \\\\\n\\textbf{ar.L4}  &       0.1826  &        0.010     &    18.634  &         0.000        &        0.163    &        0.202     \\\\\n\\textbf{ar.L5}  &       0.1754  &        0.010     &    17.793  &         0.000        &        0.156    &        0.195     \\\\\n\\textbf{sigma2} &      1.4e+04  &      199.278     &    70.252  &         0.000        &     1.36e+04    &     1.44e+04     \\\\\n\\bottomrule\n\\end{tabular}\n\\begin{tabular}{lclc}\n\\textbf{Ljung-Box (L1) (Q):}     & 17.64 & \\textbf{  Jarque-Bera (JB):  } & 858.48  \\\\\n\\textbf{Prob(Q):}                &  0.00 & \\textbf{  Prob(JB):          } &  0.00   \\\\\n\\textbf{Heteroskedasticity (H):} &  1.02 & \\textbf{  Skew:              } &  0.71   \\\\\n\\textbf{Prob(H) (two-sided):}    &  0.63 & \\textbf{  Kurtosis:          } &  3.02   \\\\\n\\bottomrule\n\\end{tabular}\n%\\caption{SARIMAX Results}\n\\end{center}\n\nWarnings: \\newline\n [1] Covariance matrix calculated using the outer product of gradients (complex-step)."
     },
     "execution_count": 16,
     "metadata": {},
     "output_type": "execute_result"
    }
   ],
   "execution_count": 16
  },
  {
   "metadata": {},
   "cell_type": "markdown",
   "source": "## Fitting SARIMAX Model",
   "id": "40a2974dd68bea5c"
  },
  {
   "metadata": {},
   "cell_type": "markdown",
   "source": "Stepwise",
   "id": "4ef5ddffd6106203"
  },
  {
   "metadata": {
    "ExecuteTime": {
     "end_time": "2025-01-24T16:48:55.443752Z",
     "start_time": "2025-01-24T16:48:20.681765Z"
    }
   },
   "cell_type": "code",
   "source": [
    "from pmdarima import auto_arima\n",
    "import warnings\n",
    "# pip install --upgrade pandas pandasai\n",
    "# SARIMAX\n",
    "\n",
    "warnings.filterwarnings(\"ignore\")\n",
    "\n",
    "sarimax_stepwise_fit = auto_arima(x=x_train,y=y_train, start_p=1, start_q=1,\n",
    "                          max_p=3, max_q=3, m=12,\n",
    "                          start_P=0, seasonal=True,\n",
    "                          stationary=True,\n",
    "                          d=None, D=1, trace=True,\n",
    "                          error_action='ignore',  # we don't want to know if an order does not work\n",
    "                          suppress_warnings=True,  # we don't want convergence warnings\n",
    "                          stepwise=True)  # set to stepwise\n",
    "\n",
    "# To print the summary\n",
    "sarimax_stepwise_fit.summary()"
   ],
   "id": "de91b75b8147a9ff",
   "outputs": [
    {
     "name": "stdout",
     "output_type": "stream",
     "text": [
      "Performing stepwise search to minimize aic\n",
      " ARIMA(1,0,1)(0,0,1)[12] intercept   : AIC=125103.027, Time=3.41 sec\n",
      " ARIMA(0,0,0)(0,0,0)[12] intercept   : AIC=125098.203, Time=0.16 sec\n",
      " ARIMA(1,0,0)(1,0,0)[12] intercept   : AIC=125101.084, Time=3.44 sec\n",
      " ARIMA(0,0,1)(0,0,1)[12] intercept   : AIC=125101.071, Time=2.50 sec\n",
      " ARIMA(0,0,0)(0,0,0)[12]             : AIC=134666.302, Time=0.09 sec\n",
      " ARIMA(0,0,0)(1,0,0)[12] intercept   : AIC=125100.084, Time=3.09 sec\n",
      " ARIMA(0,0,0)(0,0,1)[12] intercept   : AIC=125100.079, Time=1.82 sec\n",
      " ARIMA(0,0,0)(1,0,1)[12] intercept   : AIC=inf, Time=18.52 sec\n",
      " ARIMA(1,0,0)(0,0,0)[12] intercept   : AIC=125099.161, Time=0.34 sec\n",
      " ARIMA(0,0,1)(0,0,0)[12] intercept   : AIC=125099.199, Time=0.38 sec\n",
      " ARIMA(1,0,1)(0,0,0)[12] intercept   : AIC=125101.156, Time=0.47 sec\n",
      "\n",
      "Best model:  ARIMA(0,0,0)(0,0,0)[12] intercept\n",
      "Total fit time: 34.238 seconds\n"
     ]
    },
    {
     "data": {
      "text/plain": [
       "<class 'statsmodels.iolib.summary.Summary'>\n",
       "\"\"\"\n",
       "                               SARIMAX Results                                \n",
       "==============================================================================\n",
       "Dep. Variable:                      y   No. Observations:                10234\n",
       "Model:                        SARIMAX   Log Likelihood              -62547.101\n",
       "Date:                Fri, 24 Jan 2025   AIC                         125098.203\n",
       "Time:                        16:48:55   BIC                         125112.670\n",
       "Sample:                             0   HQIC                        125103.094\n",
       "                              - 10234                                         \n",
       "Covariance Type:                  opg                                         \n",
       "==============================================================================\n",
       "                 coef    std err          z      P>|z|      [0.025      0.975]\n",
       "------------------------------------------------------------------------------\n",
       "intercept    135.7875      1.403     96.784      0.000     133.038     138.537\n",
       "sigma2      1.191e+04    212.460     56.079      0.000    1.15e+04    1.23e+04\n",
       "===================================================================================\n",
       "Ljung-Box (L1) (Q):                   1.04   Jarque-Bera (JB):              1450.85\n",
       "Prob(Q):                              0.31   Prob(JB):                         0.00\n",
       "Heteroskedasticity (H):               1.01   Skew:                             0.92\n",
       "Prob(H) (two-sided):                  0.75   Kurtosis:                         3.08\n",
       "===================================================================================\n",
       "\n",
       "Warnings:\n",
       "[1] Covariance matrix calculated using the outer product of gradients (complex-step).\n",
       "\"\"\""
      ],
      "text/html": [
       "<table class=\"simpletable\">\n",
       "<caption>SARIMAX Results</caption>\n",
       "<tr>\n",
       "  <th>Dep. Variable:</th>           <td>y</td>        <th>  No. Observations:  </th>    <td>10234</td>  \n",
       "</tr>\n",
       "<tr>\n",
       "  <th>Model:</th>                <td>SARIMAX</td>     <th>  Log Likelihood     </th> <td>-62547.101</td>\n",
       "</tr>\n",
       "<tr>\n",
       "  <th>Date:</th>            <td>Fri, 24 Jan 2025</td> <th>  AIC                </th> <td>125098.203</td>\n",
       "</tr>\n",
       "<tr>\n",
       "  <th>Time:</th>                <td>16:48:55</td>     <th>  BIC                </th> <td>125112.670</td>\n",
       "</tr>\n",
       "<tr>\n",
       "  <th>Sample:</th>                  <td>0</td>        <th>  HQIC               </th> <td>125103.094</td>\n",
       "</tr>\n",
       "<tr>\n",
       "  <th></th>                     <td> - 10234</td>     <th>                     </th>      <td> </td>    \n",
       "</tr>\n",
       "<tr>\n",
       "  <th>Covariance Type:</th>        <td>opg</td>       <th>                     </th>      <td> </td>    \n",
       "</tr>\n",
       "</table>\n",
       "<table class=\"simpletable\">\n",
       "<tr>\n",
       "      <td></td>         <th>coef</th>     <th>std err</th>      <th>z</th>      <th>P>|z|</th>  <th>[0.025</th>    <th>0.975]</th>  \n",
       "</tr>\n",
       "<tr>\n",
       "  <th>intercept</th> <td>  135.7875</td> <td>    1.403</td> <td>   96.784</td> <td> 0.000</td> <td>  133.038</td> <td>  138.537</td>\n",
       "</tr>\n",
       "<tr>\n",
       "  <th>sigma2</th>    <td> 1.191e+04</td> <td>  212.460</td> <td>   56.079</td> <td> 0.000</td> <td> 1.15e+04</td> <td> 1.23e+04</td>\n",
       "</tr>\n",
       "</table>\n",
       "<table class=\"simpletable\">\n",
       "<tr>\n",
       "  <th>Ljung-Box (L1) (Q):</th>     <td>1.04</td> <th>  Jarque-Bera (JB):  </th> <td>1450.85</td>\n",
       "</tr>\n",
       "<tr>\n",
       "  <th>Prob(Q):</th>                <td>0.31</td> <th>  Prob(JB):          </th>  <td>0.00</td>  \n",
       "</tr>\n",
       "<tr>\n",
       "  <th>Heteroskedasticity (H):</th> <td>1.01</td> <th>  Skew:              </th>  <td>0.92</td>  \n",
       "</tr>\n",
       "<tr>\n",
       "  <th>Prob(H) (two-sided):</th>    <td>0.75</td> <th>  Kurtosis:          </th>  <td>3.08</td>  \n",
       "</tr>\n",
       "</table><br/><br/>Warnings:<br/>[1] Covariance matrix calculated using the outer product of gradients (complex-step)."
      ],
      "text/latex": "\\begin{center}\n\\begin{tabular}{lclc}\n\\toprule\n\\textbf{Dep. Variable:}          &        y         & \\textbf{  No. Observations:  } &   10234     \\\\\n\\textbf{Model:}                  &     SARIMAX      & \\textbf{  Log Likelihood     } & -62547.101  \\\\\n\\textbf{Date:}                   & Fri, 24 Jan 2025 & \\textbf{  AIC                } & 125098.203  \\\\\n\\textbf{Time:}                   &     16:48:55     & \\textbf{  BIC                } & 125112.670  \\\\\n\\textbf{Sample:}                 &        0         & \\textbf{  HQIC               } & 125103.094  \\\\\n\\textbf{}                        &      - 10234     & \\textbf{                     } &             \\\\\n\\textbf{Covariance Type:}        &       opg        & \\textbf{                     } &             \\\\\n\\bottomrule\n\\end{tabular}\n\\begin{tabular}{lcccccc}\n                   & \\textbf{coef} & \\textbf{std err} & \\textbf{z} & \\textbf{P$> |$z$|$} & \\textbf{[0.025} & \\textbf{0.975]}  \\\\\n\\midrule\n\\textbf{intercept} &     135.7875  &        1.403     &    96.784  &         0.000        &      133.038    &      138.537     \\\\\n\\textbf{sigma2}    &    1.191e+04  &      212.460     &    56.079  &         0.000        &     1.15e+04    &     1.23e+04     \\\\\n\\bottomrule\n\\end{tabular}\n\\begin{tabular}{lclc}\n\\textbf{Ljung-Box (L1) (Q):}     & 1.04 & \\textbf{  Jarque-Bera (JB):  } & 1450.85  \\\\\n\\textbf{Prob(Q):}                & 0.31 & \\textbf{  Prob(JB):          } &   0.00   \\\\\n\\textbf{Heteroskedasticity (H):} & 1.01 & \\textbf{  Skew:              } &   0.92   \\\\\n\\textbf{Prob(H) (two-sided):}    & 0.75 & \\textbf{  Kurtosis:          } &   3.08   \\\\\n\\bottomrule\n\\end{tabular}\n%\\caption{SARIMAX Results}\n\\end{center}\n\nWarnings: \\newline\n [1] Covariance matrix calculated using the outer product of gradients (complex-step)."
     },
     "execution_count": 17,
     "metadata": {},
     "output_type": "execute_result"
    }
   ],
   "execution_count": 17
  },
  {
   "metadata": {},
   "cell_type": "markdown",
   "source": "Non-Stepwise (Parallelized (slower)) SARIMAX",
   "id": "a114f43c8043c6d5"
  },
  {
   "metadata": {
    "jupyter": {
     "is_executing": true
    },
    "ExecuteTime": {
     "start_time": "2025-01-24T16:48:55.489469Z"
    }
   },
   "cell_type": "code",
   "source": [
    "from pmdarima import auto_arima\n",
    "import warnings\n",
    "\n",
    "# pip install --upgrade pandas pandasai\n",
    "\n",
    "\n",
    "warnings.filterwarnings(\"ignore\")\n",
    "\n",
    "sarimax_non_stepwise_fit = auto_arima(x=x_train, y=y_train, start_p=1, start_q=1,\n",
    "                          max_p=3, max_q=3, m=12,\n",
    "                          start_P=0, seasonal=True,\n",
    "                          d=None, D=1, trace=True,\n",
    "                          error_action='ignore',  # we don't want to know if an order does not work\n",
    "                          suppress_warnings=True,  # we don't want convergence warnings\n",
    "                          stepwise=False)  # set to non-stepwise\n",
    "\n",
    "# To print the summary\n",
    "sarimax_non_stepwise_fit.summary()"
   ],
   "id": "526123f774b93e58",
   "outputs": [
    {
     "name": "stdout",
     "output_type": "stream",
     "text": [
      " ARIMA(0,0,0)(0,1,0)[12] intercept   : AIC=132067.057, Time=1.26 sec\n",
      " ARIMA(0,0,0)(0,1,1)[12] intercept   : AIC=inf, Time=13.18 sec\n",
      " ARIMA(0,0,0)(0,1,2)[12] intercept   : AIC=inf, Time=40.08 sec\n",
      " ARIMA(0,0,0)(1,1,0)[12] intercept   : AIC=129189.041, Time=8.90 sec\n",
      " ARIMA(0,0,0)(1,1,1)[12] intercept   : AIC=inf, Time=21.87 sec\n",
      " ARIMA(0,0,0)(1,1,2)[12] intercept   : AIC=inf, Time=39.40 sec\n",
      " ARIMA(0,0,0)(2,1,0)[12] intercept   : AIC=127960.638, Time=27.94 sec\n",
      " ARIMA(0,0,0)(2,1,1)[12] intercept   : AIC=inf, Time=46.56 sec\n",
      " ARIMA(0,0,0)(2,1,2)[12] intercept   : AIC=inf, Time=49.13 sec\n",
      " ARIMA(0,0,1)(0,1,0)[12] intercept   : AIC=132068.442, Time=2.42 sec\n",
      " ARIMA(0,0,1)(0,1,1)[12] intercept   : AIC=inf, Time=17.18 sec\n",
      " ARIMA(0,0,1)(0,1,2)[12] intercept   : AIC=inf, Time=44.90 sec\n",
      " ARIMA(0,0,1)(1,1,0)[12] intercept   : AIC=129190.028, Time=10.35 sec\n",
      " ARIMA(0,0,1)(1,1,1)[12] intercept   : AIC=inf, Time=23.61 sec\n",
      " ARIMA(0,0,1)(1,1,2)[12] intercept   : AIC=inf, Time=43.65 sec\n",
      " ARIMA(0,0,1)(2,1,0)[12] intercept   : AIC=127962.189, Time=25.98 sec\n"
     ]
    }
   ],
   "execution_count": null
  },
  {
   "metadata": {},
   "cell_type": "code",
   "source": [
    "print(f\"NumPy version: {np.__version__}\")\n",
    "print(f\"Pandas version: {pd.__version__}\")"
   ],
   "id": "1c1331c47410aae5",
   "outputs": [],
   "execution_count": null
  },
  {
   "metadata": {},
   "cell_type": "markdown",
   "source": "Finding Best Fit",
   "id": "6489de400699b184"
  },
  {
   "metadata": {},
   "cell_type": "code",
   "source": "",
   "id": "e7100b6645fafa01",
   "outputs": [],
   "execution_count": null
  }
 ],
 "metadata": {
  "kernelspec": {
   "display_name": "Python 3",
   "language": "python",
   "name": "python3"
  },
  "language_info": {
   "codemirror_mode": {
    "name": "ipython",
    "version": 2
   },
   "file_extension": ".py",
   "mimetype": "text/x-python",
   "name": "python",
   "nbconvert_exporter": "python",
   "pygments_lexer": "ipython2",
   "version": "2.7.6"
  }
 },
 "nbformat": 4,
 "nbformat_minor": 5
}
