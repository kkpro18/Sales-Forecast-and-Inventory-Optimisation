{
 "cells": [
  {
   "cell_type": "code",
   "id": "initial_id",
   "metadata": {
    "collapsed": true,
    "ExecuteTime": {
     "end_time": "2025-02-12T01:26:31.329920Z",
     "start_time": "2025-02-12T01:26:29.742975Z"
    }
   },
   "source": [
    "import pandas as pd\n",
    "from sklearn.compose import ColumnTransformer\n",
    "\n",
    "\n",
    "uploaded_dataset = pd.read_csv(\"/Users/kirisanthiruchelvam/Desktop/testdummy.csv\")"
   ],
   "outputs": [],
   "execution_count": 7
  },
  {
   "metadata": {
    "ExecuteTime": {
     "end_time": "2025-02-09T02:10:07.792084Z",
     "start_time": "2025-02-09T02:10:07.746844Z"
    }
   },
   "cell_type": "code",
   "source": [
    "from sklearn.impute import SimpleImputer\n",
    "\n",
    "date_column = [\"InvoiceDate\"]\n",
    "product_column = [\"StockCode\"]\n",
    "sales_column = [\"Quantity\"]\n",
    "price_column = [\"Price\"]\n",
    "\n",
    "product_imputer = SimpleImputer(strategy='most_frequent')\n",
    "sales_imputer = SimpleImputer(strategy='median')\n",
    "price_imputer = SimpleImputer(strategy='mean')\n",
    "\n",
    "if uploaded_dataset.isnull().values.any():\n",
    "    rows_with_missing_values = uploaded_dataset[uploaded_dataset.isnull().any(axis=1)]\n",
    "\n",
    "    # if rows_with_missing_values.shape[0] > 0:\n",
    "    #     print(\"Data contains Missing or Null values\\n\")\n",
    "    #     uploaded_dataset = uploaded_dataset.dropna() # drops all null values, as they are stored in a list to be processed\n",
    "\n",
    "    # print(rows_with_missing_values.head())\n",
    "\n",
    "    missing_date_records = rows_with_missing_values[rows_with_missing_values[date_column].isnull().any(axis=1)]\n",
    "    missing_product_records = rows_with_missing_values[rows_with_missing_values[product_column].isnull().any(axis=1)]\n",
    "    missing_sales_records = rows_with_missing_values[rows_with_missing_values[sales_column].isnull().any(axis=1)]\n",
    "    missing_price_records = rows_with_missing_values[rows_with_missing_values[price_column].isnull().any(axis=1)]\n",
    "\n",
    "\n",
    "    # if missing_date_records.shape[0] > 0:\n",
    "    #     print(\"Rows with Invalid / Missing Dates will be dropped as without dates they lack any information \\n\\n\\n\", missing_date_records)\n",
    "    #     uploaded_dataset[date_column] = uploaded_dataset[date_column].dropna()\n",
    "    #\n",
    "    # elif missing_product_records.shape[0] > 0:\n",
    "    #     print(\"Rows with Invalid / Missing Product Info \\n\\n\\n\", missing_product_records)\n",
    "    #     product_imputer.fit(uploaded_dataset[product_column])\n",
    "    #     uploaded_dataset[product_column] = product_imputer.transform(uploaded_dataset[product_column])\n",
    "    #     print(\"Missing Product Info will be imputed with the most frequently sold products \\n\\n\")\n",
    "    #\n",
    "    # elif missing_sales_records.shape[0] > 0:\n",
    "    #     print(\"Rows with Invalid / Missing Sales \\n\\n\\n\", missing_sales_records)\n",
    "    #     sales_imputer.fit(uploaded_dataset[sales_column])\n",
    "    #     uploaded_dataset[sales_column] = sales_imputer.transform(uploaded_dataset[sales_column])\n",
    "    #     print(\"Missing Sales will be imputed with the average sold amount \\n\\n\")\n",
    "    #\n",
    "    # elif missing_price_records.shape[0] > 0:\n",
    "    #     print(\"Rows with Invalid / Missing Prices \\n\\n\\n\", missing_price_records)\n",
    "    #     price_imputer.fit(uploaded_dataset[price_column])\n",
    "    #     uploaded_dataset[price_column] = price_imputer.transform(uploaded_dataset[price_column])\n",
    "    #     print(\"Missing Price will be imputed with the average prices of products \\n\\n\")\n",
    "\n",
    "    ct = ColumnTransformer([(\"product_imputer\", product_imputer, product_column),(\"sales_imputer\", sales_imputer, sales_column),(\"price_imputer\", price_imputer, price_column)],\n",
    "                           verbose_feature_names_out=False)\n",
    "    ct.set_output(transform=\"pandas\")\n",
    "    uploaded_dataset = ct.fit_transform(uploaded_dataset)\n",
    "\n",
    "    print(uploaded_dataset)\n",
    "\n",
    "    print(\"FINAL CHECK \\n\", uploaded_dataset[uploaded_dataset.isnull().any(axis=1)])\n",
    "\n",
    "\n",
    "\n",
    "print(\"Missing Values Still Exists :/\") if uploaded_dataset.isnull().values.any() else print(\"Missing Values Processed and Cleaned\")"
   ],
   "id": "58c1c02183290fae",
   "outputs": [
    {
     "name": "stdout",
     "output_type": "stream",
     "text": [
      "     StockCode  Quantity  Price\n",
      "0       85123A       6.0   2.55\n",
      "1        71053       6.0   3.39\n",
      "2       84406B       8.0   2.75\n",
      "3       84029G       6.0   3.39\n",
      "4       84029E       4.0   3.39\n",
      "...        ...       ...    ...\n",
      "1498     22080       1.0   3.36\n",
      "1499    85123A       6.0   3.36\n",
      "1500     71053       6.0   3.36\n",
      "1501    85123A       6.0   5.91\n",
      "1502     71053       6.0   5.91\n",
      "\n",
      "[1503 rows x 3 columns]\n",
      "FINAL CHECK \n",
      " Empty DataFrame\n",
      "Columns: [StockCode, Quantity, Price]\n",
      "Index: []\n",
      "Missing Values Processed and Cleaned\n"
     ]
    }
   ],
   "execution_count": 138
  },
  {
   "metadata": {
    "ExecuteTime": {
     "end_time": "2025-02-09T02:15:24.239203Z",
     "start_time": "2025-02-09T02:15:24.190208Z"
    }
   },
   "cell_type": "code",
   "source": [
    "from sklearn.impute import SimpleImputer\n",
    "\n",
    "date_column = [\"InvoiceDate\"]\n",
    "product_column = [\"StockCode\"]\n",
    "sales_column = [\"Quantity\"]\n",
    "price_column = [\"Price\"]\n",
    "\n",
    "product_imputer = SimpleImputer(strategy='most_frequent')\n",
    "sales_imputer = SimpleImputer(strategy='median')\n",
    "price_imputer = SimpleImputer(strategy='mean')\n",
    "\n",
    "if uploaded_dataset.isnull().values.any():\n",
    "    rows_with_missing_values = uploaded_dataset[uploaded_dataset.isnull().any(axis=1)]\n",
    "    # print(rows_with_missing_values.head())\n",
    "\n",
    "    uploaded_dataset.dropna(subset=date_column, inplace=True)\n",
    "    ct = ColumnTransformer(\n",
    "        [(\"product_imputer\", product_imputer, [product_column]),\n",
    "         (\"sales_imputer\", sales_imputer, [sales_column]),\n",
    "         (\"price_imputer\", price_imputer, [price_column])],\n",
    "        verbose_feature_names_out=False,\n",
    "        remainder=\"passthrough\")\n",
    "\n",
    "    ct.set_output(transform=\"pandas\")\n",
    "    uploaded_dataset = ct.fit_transform(uploaded_dataset)\n",
    "\n",
    "    print(uploaded_dataset)\n",
    "\n",
    "    print(\"FINAL CHECK \\n\", uploaded_dataset[uploaded_dataset.isnull().any(axis=1)])\n",
    "\n",
    "if uploaded_dataset.isnull().values.any():\n",
    "    print(\"Missing Values Still Exists :/\")\n",
    "else:\n",
    "    print(\"Missing Values Processed and Cleaned\")"
   ],
   "id": "ebe5c9cb37daf6c9",
   "outputs": [
    {
     "name": "stdout",
     "output_type": "stream",
     "text": [
      "     StockCode  Quantity  Price InvoiceDate\n",
      "0       85123A       6.0   2.55  01/12/2010\n",
      "1        71053       6.0   3.39  01/12/2010\n",
      "2       84406B       8.0   2.75  01/12/2010\n",
      "3       84029G       6.0   3.39  01/12/2010\n",
      "4       84029E       4.0   3.39  01/12/2010\n",
      "...        ...       ...    ...         ...\n",
      "1498     22080       1.0   3.36  01/12/2010\n",
      "1499    85123A       6.0   3.36  01/12/2010\n",
      "1500     71053       6.0   3.36  01/12/2010\n",
      "1501    85123A       6.0   5.91  01/12/2010\n",
      "1502     71053       6.0   5.91  01/12/2010\n",
      "\n",
      "[1495 rows x 4 columns]\n",
      "FINAL CHECK \n",
      " Empty DataFrame\n",
      "Columns: [StockCode, Quantity, Price, InvoiceDate]\n",
      "Index: []\n",
      "Missing Values Processed and Cleaned\n"
     ]
    }
   ],
   "execution_count": 146
  },
  {
   "metadata": {
    "ExecuteTime": {
     "end_time": "2025-02-09T02:06:54.993883Z",
     "start_time": "2025-02-09T02:06:54.977469Z"
    }
   },
   "cell_type": "code",
   "source": "uploaded_dataset.to_csv(\"/Users/kirisanthiruchelvam/Desktop/clean.csv\", index=False)",
   "id": "401efca0e0105355",
   "outputs": [],
   "execution_count": 135
  },
  {
   "metadata": {
    "ExecuteTime": {
     "end_time": "2025-02-12T01:34:12.492394Z",
     "start_time": "2025-02-12T01:34:12.467210Z"
    }
   },
   "cell_type": "code",
   "source": [
    "import pandas as pd\n",
    "\n",
    "df = uploaded_dataset\n",
    "\n",
    "# Convert to datetime with automatic format detection\n",
    "df['date'] = pd.to_datetime(df['InvoiceDate'], dayfirst=None, errors='coerce')\n",
    "\n",
    "# Convert back to string in \"DD/MM/YYYY\" format\n",
    "df['date'] = df['date'].dt.strftime(\"%d/%m/%Y\")\n",
    "\n",
    "print(df)\n"
   ],
   "id": "35aad3979e449b67",
   "outputs": [
    {
     "name": "stdout",
     "output_type": "stream",
     "text": [
      "     StockCode  Quantity InvoiceDate  Price        date      date1\n",
      "0       85123A       6.0  01/12/2010   2.55  12/01/2010 2010-12-01\n",
      "1        71053       6.0  01/12/2010   3.39  12/01/2010 2010-12-01\n",
      "2       84406B       8.0  01/12/2010   2.75  12/01/2010 2010-12-01\n",
      "3       84029G       6.0  01/12/2010   3.39  12/01/2010 2010-12-01\n",
      "4       84029E       NaN  01/12/2010   3.39  12/01/2010 2010-12-01\n",
      "...        ...       ...         ...    ...         ...        ...\n",
      "1498     22080       1.0  01/12/2010   3.36  12/01/2010 2010-12-01\n",
      "1499    85123A       6.0  01/12/2010   3.36  12/01/2010 2010-12-01\n",
      "1500     71053       6.0  01/12/2010   3.36  12/01/2010 2010-12-01\n",
      "1501    85123A       6.0  01/12/2010   5.91  12/01/2010 2010-12-01\n",
      "1502     71053       6.0  01/12/2010   5.91  12/01/2010 2010-12-01\n",
      "\n",
      "[1503 rows x 6 columns]\n"
     ]
    }
   ],
   "execution_count": 17
  },
  {
   "metadata": {
    "ExecuteTime": {
     "end_time": "2025-02-12T01:52:35.871677Z",
     "start_time": "2025-02-12T01:52:35.846895Z"
    }
   },
   "cell_type": "code",
   "source": [
    "\n",
    "df['date1'] = pd.to_datetime(df['InvoiceDate'], dayfirst=None, errors='coerce')\n",
    "df['date1'] = df['date1'].dt.strftime(\"%d/%m/%Y\")\n",
    "\n",
    "print(df)"
   ],
   "id": "ffb4ac45230e204e",
   "outputs": [
    {
     "name": "stdout",
     "output_type": "stream",
     "text": [
      "     StockCode  Quantity InvoiceDate  Price        date       date1\n",
      "0       85123A       6.0  01/12/2010   2.55  12/01/2010  12/01/2010\n",
      "1        71053       6.0  01/12/2010   3.39  12/01/2010  12/01/2010\n",
      "2       84406B       8.0  01/12/2010   2.75  12/01/2010  12/01/2010\n",
      "3       84029G       6.0  01/12/2010   3.39  12/01/2010  12/01/2010\n",
      "4       84029E       NaN  01/12/2010   3.39  12/01/2010  12/01/2010\n",
      "...        ...       ...         ...    ...         ...         ...\n",
      "1498     22080       1.0  01/12/2010   3.36  12/01/2010  12/01/2010\n",
      "1499    85123A       6.0  01/12/2010   3.36  12/01/2010  12/01/2010\n",
      "1500     71053       6.0  01/12/2010   3.36  12/01/2010  12/01/2010\n",
      "1501    85123A       6.0  01/12/2010   5.91  12/01/2010  12/01/2010\n",
      "1502     71053       6.0  01/12/2010   5.91  12/01/2010  12/01/2010\n",
      "\n",
      "[1503 rows x 6 columns]\n"
     ]
    }
   ],
   "execution_count": 19
  },
  {
   "metadata": {},
   "cell_type": "code",
   "outputs": [],
   "execution_count": null,
   "source": "",
   "id": "7513529a6d5d7f52"
  }
 ],
 "metadata": {
  "kernelspec": {
   "display_name": "Python 3",
   "language": "python",
   "name": "python3"
  },
  "language_info": {
   "codemirror_mode": {
    "name": "ipython",
    "version": 2
   },
   "file_extension": ".py",
   "mimetype": "text/x-python",
   "name": "python",
   "nbconvert_exporter": "python",
   "pygments_lexer": "ipython2",
   "version": "2.7.6"
  }
 },
 "nbformat": 4,
 "nbformat_minor": 5
}
